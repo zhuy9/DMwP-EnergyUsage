{
 "cells": [
  {
   "cell_type": "markdown",
   "metadata": {},
   "source": [
    "### Energy Usage"
   ]
  },
  {
   "cell_type": "code",
   "execution_count": 1,
   "metadata": {},
   "outputs": [],
   "source": [
    "import pandas as pd\n",
    "import matplotlib.pyplot as plt\n",
    "import seaborn as sns\n",
    "#sns.set_style(\"darkgrid\")\n",
    "plt.style.use('ggplot')\n",
    "import warnings\n",
    "warnings.filterwarnings(\"ignore\")\n",
    "from matplotlib.pyplot import figure"
   ]
  },
  {
   "cell_type": "markdown",
   "metadata": {},
   "source": [
    "#### Data Import"
   ]
  },
  {
   "cell_type": "code",
   "execution_count": 2,
   "metadata": {},
   "outputs": [
    {
     "data": {
      "text/html": [
       "<div>\n",
       "<style scoped>\n",
       "    .dataframe tbody tr th:only-of-type {\n",
       "        vertical-align: middle;\n",
       "    }\n",
       "\n",
       "    .dataframe tbody tr th {\n",
       "        vertical-align: top;\n",
       "    }\n",
       "\n",
       "    .dataframe thead th {\n",
       "        text-align: right;\n",
       "    }\n",
       "</style>\n",
       "<table border=\"1\" class=\"dataframe\">\n",
       "  <thead>\n",
       "    <tr style=\"text-align: right;\">\n",
       "      <th></th>\n",
       "      <th>Utility.Number</th>\n",
       "      <th>Utility.Name</th>\n",
       "      <th>Utility.State</th>\n",
       "      <th>Utility.Type</th>\n",
       "      <th>Demand.Summer Peak</th>\n",
       "      <th>Demand.Winter Peak</th>\n",
       "      <th>Sources.Generation</th>\n",
       "      <th>Sources.Purchased</th>\n",
       "      <th>Sources.Other</th>\n",
       "      <th>Sources.Total</th>\n",
       "      <th>...</th>\n",
       "      <th>Retail.Commercial.Customers</th>\n",
       "      <th>Retail.Industrial.Revenue</th>\n",
       "      <th>Retail.Industrial.Sales</th>\n",
       "      <th>Retail.Industrial.Customers</th>\n",
       "      <th>Retail.Transportation.Revenue</th>\n",
       "      <th>Retail.Transportation.Sales</th>\n",
       "      <th>Retail.Transportation.Customers</th>\n",
       "      <th>Retail.Total.Revenue</th>\n",
       "      <th>Retail.Total.Sales</th>\n",
       "      <th>Retail.Total.Customers</th>\n",
       "    </tr>\n",
       "  </thead>\n",
       "  <tbody>\n",
       "    <tr>\n",
       "      <th>0</th>\n",
       "      <td>55</td>\n",
       "      <td>City of Aberdeen - (MS)</td>\n",
       "      <td>MS</td>\n",
       "      <td>Municipal</td>\n",
       "      <td>32.7</td>\n",
       "      <td>30.7</td>\n",
       "      <td>0.0</td>\n",
       "      <td>204875.0</td>\n",
       "      <td>0.0</td>\n",
       "      <td>204875.0</td>\n",
       "      <td>...</td>\n",
       "      <td>661.0</td>\n",
       "      <td>6025.0</td>\n",
       "      <td>118989.0</td>\n",
       "      <td>2.0</td>\n",
       "      <td>0.0</td>\n",
       "      <td>0.0</td>\n",
       "      <td>0.0</td>\n",
       "      <td>14649.0</td>\n",
       "      <td>198442.0</td>\n",
       "      <td>3258.0</td>\n",
       "    </tr>\n",
       "    <tr>\n",
       "      <th>1</th>\n",
       "      <td>59</td>\n",
       "      <td>City of Abbeville - (LA)</td>\n",
       "      <td>LA</td>\n",
       "      <td>Municipal</td>\n",
       "      <td>31.4</td>\n",
       "      <td>22.9</td>\n",
       "      <td>0.0</td>\n",
       "      <td>137537.0</td>\n",
       "      <td>0.0</td>\n",
       "      <td>137537.0</td>\n",
       "      <td>...</td>\n",
       "      <td>1032.0</td>\n",
       "      <td>3211.8</td>\n",
       "      <td>37566.0</td>\n",
       "      <td>27.0</td>\n",
       "      <td>0.0</td>\n",
       "      <td>0.0</td>\n",
       "      <td>0.0</td>\n",
       "      <td>12574.4</td>\n",
       "      <td>127849.0</td>\n",
       "      <td>5523.0</td>\n",
       "    </tr>\n",
       "  </tbody>\n",
       "</table>\n",
       "<p>2 rows × 38 columns</p>\n",
       "</div>"
      ],
      "text/plain": [
       "   Utility.Number              Utility.Name Utility.State Utility.Type  \\\n",
       "0              55   City of Aberdeen - (MS)            MS    Municipal   \n",
       "1              59  City of Abbeville - (LA)            LA    Municipal   \n",
       "\n",
       "   Demand.Summer Peak  Demand.Winter Peak  Sources.Generation  \\\n",
       "0                32.7                30.7                 0.0   \n",
       "1                31.4                22.9                 0.0   \n",
       "\n",
       "   Sources.Purchased  Sources.Other  Sources.Total  ...  \\\n",
       "0           204875.0            0.0       204875.0  ...   \n",
       "1           137537.0            0.0       137537.0  ...   \n",
       "\n",
       "   Retail.Commercial.Customers  Retail.Industrial.Revenue  \\\n",
       "0                        661.0                     6025.0   \n",
       "1                       1032.0                     3211.8   \n",
       "\n",
       "   Retail.Industrial.Sales  Retail.Industrial.Customers  \\\n",
       "0                 118989.0                          2.0   \n",
       "1                  37566.0                         27.0   \n",
       "\n",
       "   Retail.Transportation.Revenue  Retail.Transportation.Sales  \\\n",
       "0                            0.0                          0.0   \n",
       "1                            0.0                          0.0   \n",
       "\n",
       "   Retail.Transportation.Customers  Retail.Total.Revenue  Retail.Total.Sales  \\\n",
       "0                              0.0               14649.0            198442.0   \n",
       "1                              0.0               12574.4            127849.0   \n",
       "\n",
       "   Retail.Total.Customers  \n",
       "0                  3258.0  \n",
       "1                  5523.0  \n",
       "\n",
       "[2 rows x 38 columns]"
      ]
     },
     "execution_count": 2,
     "metadata": {},
     "output_type": "execute_result"
    }
   ],
   "source": [
    "df = pd.read_csv('electricity.csv')\n",
    "df.head(2)"
   ]
  },
  {
   "cell_type": "markdown",
   "metadata": {},
   "source": [
    "#### Cleaning Data"
   ]
  },
  {
   "cell_type": "code",
   "execution_count": 3,
   "metadata": {},
   "outputs": [
    {
     "name": "stdout",
     "output_type": "stream",
     "text": [
      "The initial dataframe size is: 80408\n"
     ]
    }
   ],
   "source": [
    "print('The initial dataframe size is: %d' % df.size)"
   ]
  },
  {
   "cell_type": "code",
   "execution_count": 4,
   "metadata": {},
   "outputs": [
    {
     "name": "stdout",
     "output_type": "stream",
     "text": [
      "After cleaning, the size is: 80370\n"
     ]
    }
   ],
   "source": [
    "# remove duplicates\n",
    "df.drop_duplicates()\n",
    "# drop rows containing na values\n",
    "df = df.dropna()\n",
    "print('After cleaning, the size is: %d' % df.size)"
   ]
  },
  {
   "cell_type": "markdown",
   "metadata": {},
   "source": [
    "#### Convert column(s) to appropriate data types"
   ]
  },
  {
   "cell_type": "code",
   "execution_count": 5,
   "metadata": {},
   "outputs": [
    {
     "data": {
      "text/plain": [
       "Utility.Number                       int64\n",
       "Utility.Name                        object\n",
       "Utility.State                       object\n",
       "Utility.Type                        object\n",
       "Demand.Summer Peak                 float64\n",
       "Demand.Winter Peak                 float64\n",
       "Sources.Generation                 float64\n",
       "Sources.Purchased                  float64\n",
       "Sources.Other                      float64\n",
       "Sources.Total                      float64\n",
       "Uses.Retail                        float64\n",
       "Uses.Resale                        float64\n",
       "Uses.No Charge                     float64\n",
       "Uses.Consumed                      float64\n",
       "Uses.Losses                        float64\n",
       "Uses.Total                         float64\n",
       "Revenues.Retail                    float64\n",
       "Revenue.Delivery                   float64\n",
       "Revenue.Resale                     float64\n",
       "Revenue.Adjustments                float64\n",
       "Revenue.Transmission               float64\n",
       "Revenue.Other                      float64\n",
       "Revenue.Total                      float64\n",
       "Retail.Residential.Revenue         float64\n",
       "Retail.Residential.Sales           float64\n",
       "Retail.Residential.Customers       float64\n",
       "Retail.Commercial.Revenue          float64\n",
       "Retail.Commercial.Sales            float64\n",
       "Retail.Commercial.Customers        float64\n",
       "Retail.Industrial.Revenue          float64\n",
       "Retail.Industrial.Sales            float64\n",
       "Retail.Industrial.Customers        float64\n",
       "Retail.Transportation.Revenue      float64\n",
       "Retail.Transportation.Sales        float64\n",
       "Retail.Transportation.Customers    float64\n",
       "Retail.Total.Revenue               float64\n",
       "Retail.Total.Sales                 float64\n",
       "Retail.Total.Customers             float64\n",
       "dtype: object"
      ]
     },
     "execution_count": 5,
     "metadata": {},
     "output_type": "execute_result"
    }
   ],
   "source": [
    "df.dtypes"
   ]
  },
  {
   "cell_type": "code",
   "execution_count": 6,
   "metadata": {},
   "outputs": [
    {
     "data": {
      "text/plain": [
       "Utility.Number                        int64\n",
       "Utility.Name                         object\n",
       "Utility.State                      category\n",
       "Utility.Type                       category\n",
       "Demand.Summer Peak                  float64\n",
       "Demand.Winter Peak                  float64\n",
       "Sources.Generation                  float64\n",
       "Sources.Purchased                   float64\n",
       "Sources.Other                       float64\n",
       "Sources.Total                       float64\n",
       "Uses.Retail                         float64\n",
       "Uses.Resale                         float64\n",
       "Uses.No Charge                      float64\n",
       "Uses.Consumed                       float64\n",
       "Uses.Losses                         float64\n",
       "Uses.Total                          float64\n",
       "Revenues.Retail                     float64\n",
       "Revenue.Delivery                    float64\n",
       "Revenue.Resale                      float64\n",
       "Revenue.Adjustments                 float64\n",
       "Revenue.Transmission                float64\n",
       "Revenue.Other                       float64\n",
       "Revenue.Total                       float64\n",
       "Retail.Residential.Revenue          float64\n",
       "Retail.Residential.Sales            float64\n",
       "Retail.Residential.Customers        float64\n",
       "Retail.Commercial.Revenue           float64\n",
       "Retail.Commercial.Sales             float64\n",
       "Retail.Commercial.Customers         float64\n",
       "Retail.Industrial.Revenue           float64\n",
       "Retail.Industrial.Sales             float64\n",
       "Retail.Industrial.Customers         float64\n",
       "Retail.Transportation.Revenue       float64\n",
       "Retail.Transportation.Sales         float64\n",
       "Retail.Transportation.Customers     float64\n",
       "Retail.Total.Revenue                float64\n",
       "Retail.Total.Sales                  float64\n",
       "Retail.Total.Customers              float64\n",
       "dtype: object"
      ]
     },
     "execution_count": 6,
     "metadata": {},
     "output_type": "execute_result"
    }
   ],
   "source": [
    "df['Utility.State'] = df['Utility.State'].astype('category')\n",
    "df['Utility.Type'] = df['Utility.Type'].astype('category')\n",
    "df.dtypes"
   ]
  },
  {
   "cell_type": "markdown",
   "metadata": {},
   "source": [
    "#### Rename some columns to remove the space"
   ]
  },
  {
   "cell_type": "code",
   "execution_count": 7,
   "metadata": {},
   "outputs": [
    {
     "data": {
      "text/plain": [
       "['Utility.Number',\n",
       " 'Utility.Name',\n",
       " 'Utility.State',\n",
       " 'Utility.Type',\n",
       " 'Demand.SummerPeak',\n",
       " 'Demand.WinterPeak',\n",
       " 'Sources.Generation',\n",
       " 'Sources.Purchased',\n",
       " 'Sources.Other',\n",
       " 'Sources.Total',\n",
       " 'Uses.Retail',\n",
       " 'Uses.Resale',\n",
       " 'Uses.NoCharge',\n",
       " 'Uses.Consumed',\n",
       " 'Uses.Losses',\n",
       " 'Uses.Total',\n",
       " 'Revenues.Retail',\n",
       " 'Revenue.Delivery',\n",
       " 'Revenue.Resale',\n",
       " 'Revenue.Adjustments',\n",
       " 'Revenue.Transmission',\n",
       " 'Revenue.Other',\n",
       " 'Revenue.Total',\n",
       " 'Retail.Residential.Revenue',\n",
       " 'Retail.Residential.Sales',\n",
       " 'Retail.Residential.Customers',\n",
       " 'Retail.Commercial.Revenue',\n",
       " 'Retail.Commercial.Sales',\n",
       " 'Retail.Commercial.Customers',\n",
       " 'Retail.Industrial.Revenue',\n",
       " 'Retail.Industrial.Sales',\n",
       " 'Retail.Industrial.Customers',\n",
       " 'Retail.Transportation.Revenue',\n",
       " 'Retail.Transportation.Sales',\n",
       " 'Retail.Transportation.Customers',\n",
       " 'Retail.Total.Revenue',\n",
       " 'Retail.Total.Sales',\n",
       " 'Retail.Total.Customers']"
      ]
     },
     "execution_count": 7,
     "metadata": {},
     "output_type": "execute_result"
    }
   ],
   "source": [
    "df = df.rename(columns={'Demand.Summer Peak': 'Demand.SummerPeak', 'Demand.Winter Peak': 'Demand.WinterPeak', 'Uses.No Charge':'Uses.NoCharge'})\n",
    "list(df.columns)"
   ]
  },
  {
   "cell_type": "code",
   "execution_count": 8,
   "metadata": {},
   "outputs": [
    {
     "data": {
      "text/plain": [
       "<AxesSubplot:>"
      ]
     },
     "execution_count": 8,
     "metadata": {},
     "output_type": "execute_result"
    },
    {
     "data": {
      "image/png": "[encoded data removed]",
      "text/plain": [
       "<Figure size 432x288 with 1 Axes>"
      ]
     },
     "metadata": {},
     "output_type": "display_data"
    }
   ],
   "source": [
    "### Plot the Summer Peak and Winter Peak on one graph\n",
    "df[['Demand.SummerPeak','Demand.WinterPeak']].plot.line()"
   ]
  },
  {
   "cell_type": "code",
   "execution_count": 9,
   "metadata": {},
   "outputs": [
    {
     "name": "stdout",
     "output_type": "stream",
     "text": [
      "There are 45296 utilities where the summer peak is greater than winter peak.\n",
      "There are 836 utilities where the summer peak is equal to winter peak.\n",
      "There are 26068 utilities where the summer peak is lower than winter peak.\n"
     ]
    }
   ],
   "source": [
    "print(\"There are %d utilities where the summer peak is greater than winter peak.\" % df[df['Demand.SummerPeak'] > df['Demand.WinterPeak']].size)\n",
    "print(\"There are %d utilities where the summer peak is equal to winter peak.\" % df[df['Demand.SummerPeak'] == df['Demand.WinterPeak']][df['Demand.SummerPeak'] != 0].size)\n",
    "print(\"There are %d utilities where the summer peak is lower than winter peak.\" % df[df['Demand.SummerPeak'] < df['Demand.WinterPeak']].size)"
   ]
  },
  {
   "cell_type": "code",
   "execution_count": 10,
   "metadata": {},
   "outputs": [
    {
     "data": {
      "text/html": [
       "<div>\n",
       "<style scoped>\n",
       "    .dataframe tbody tr th:only-of-type {\n",
       "        vertical-align: middle;\n",
       "    }\n",
       "\n",
       "    .dataframe tbody tr th {\n",
       "        vertical-align: top;\n",
       "    }\n",
       "\n",
       "    .dataframe thead tr th {\n",
       "        text-align: left;\n",
       "    }\n",
       "\n",
       "    .dataframe thead tr:last-of-type th {\n",
       "        text-align: right;\n",
       "    }\n",
       "</style>\n",
       "<table border=\"1\" class=\"dataframe\">\n",
       "  <thead>\n",
       "    <tr>\n",
       "      <th></th>\n",
       "      <th colspan=\"10\" halign=\"left\">Sources.Total</th>\n",
       "    </tr>\n",
       "    <tr>\n",
       "      <th>Utility.Type</th>\n",
       "      <th>Behind the Meter</th>\n",
       "      <th>Community Choice Aggregator</th>\n",
       "      <th>Cooperative</th>\n",
       "      <th>Federal</th>\n",
       "      <th>Investor Owned</th>\n",
       "      <th>Municipal</th>\n",
       "      <th>Political Subdivision</th>\n",
       "      <th>Retail Power Marketer</th>\n",
       "      <th>State</th>\n",
       "      <th>Wholesale Power Marketer</th>\n",
       "    </tr>\n",
       "    <tr>\n",
       "      <th>Utility.State</th>\n",
       "      <th></th>\n",
       "      <th></th>\n",
       "      <th></th>\n",
       "      <th></th>\n",
       "      <th></th>\n",
       "      <th></th>\n",
       "      <th></th>\n",
       "      <th></th>\n",
       "      <th></th>\n",
       "      <th></th>\n",
       "    </tr>\n",
       "  </thead>\n",
       "  <tbody>\n",
       "    <tr>\n",
       "      <th>AK</th>\n",
       "      <td>0.0</td>\n",
       "      <td>0.0</td>\n",
       "      <td>4518506.0</td>\n",
       "      <td>0.0</td>\n",
       "      <td>498375.0</td>\n",
       "      <td>1899550.0</td>\n",
       "      <td>0.0</td>\n",
       "      <td>0.0</td>\n",
       "      <td>0.0</td>\n",
       "      <td>0.0</td>\n",
       "    </tr>\n",
       "    <tr>\n",
       "      <th>AL</th>\n",
       "      <td>0.0</td>\n",
       "      <td>0.0</td>\n",
       "      <td>11583544.0</td>\n",
       "      <td>0.0</td>\n",
       "      <td>66545519.0</td>\n",
       "      <td>16360950.0</td>\n",
       "      <td>0.0</td>\n",
       "      <td>0.0</td>\n",
       "      <td>0.0</td>\n",
       "      <td>0.0</td>\n",
       "    </tr>\n",
       "    <tr>\n",
       "      <th>AR</th>\n",
       "      <td>0.0</td>\n",
       "      <td>0.0</td>\n",
       "      <td>13014097.0</td>\n",
       "      <td>0.0</td>\n",
       "      <td>31248886.0</td>\n",
       "      <td>6420696.0</td>\n",
       "      <td>0.0</td>\n",
       "      <td>5031891.0</td>\n",
       "      <td>0.0</td>\n",
       "      <td>0.0</td>\n",
       "    </tr>\n",
       "  </tbody>\n",
       "</table>\n",
       "</div>"
      ],
      "text/plain": [
       "                 Sources.Total                                          \\\n",
       "Utility.Type  Behind the Meter Community Choice Aggregator Cooperative   \n",
       "Utility.State                                                            \n",
       "AK                         0.0                         0.0   4518506.0   \n",
       "AL                         0.0                         0.0  11583544.0   \n",
       "AR                         0.0                         0.0  13014097.0   \n",
       "\n",
       "                                                                        \\\n",
       "Utility.Type  Federal Investor Owned   Municipal Political Subdivision   \n",
       "Utility.State                                                            \n",
       "AK                0.0       498375.0   1899550.0                   0.0   \n",
       "AL                0.0     66545519.0  16360950.0                   0.0   \n",
       "AR                0.0     31248886.0   6420696.0                   0.0   \n",
       "\n",
       "                                                                    \n",
       "Utility.Type  Retail Power Marketer State Wholesale Power Marketer  \n",
       "Utility.State                                                       \n",
       "AK                              0.0   0.0                      0.0  \n",
       "AL                              0.0   0.0                      0.0  \n",
       "AR                        5031891.0   0.0                      0.0  "
      ]
     },
     "execution_count": 10,
     "metadata": {},
     "output_type": "execute_result"
    }
   ],
   "source": [
    "pwr_generated = pd.pivot_table(df, values=['Sources.Total'], index=['Utility.State'], columns=['Utility.Type'], aggfunc='sum').fillna(0)\n",
    "pwr_generated.head(3)"
   ]
  },
  {
   "cell_type": "code",
   "execution_count": 11,
   "metadata": {},
   "outputs": [
    {
     "data": {
      "text/html": [
       "<div>\n",
       "<style scoped>\n",
       "    .dataframe tbody tr th:only-of-type {\n",
       "        vertical-align: middle;\n",
       "    }\n",
       "\n",
       "    .dataframe tbody tr th {\n",
       "        vertical-align: top;\n",
       "    }\n",
       "\n",
       "    .dataframe thead th {\n",
       "        text-align: right;\n",
       "    }\n",
       "</style>\n",
       "<table border=\"1\" class=\"dataframe\">\n",
       "  <thead>\n",
       "    <tr style=\"text-align: right;\">\n",
       "      <th></th>\n",
       "      <th>Utility by State</th>\n",
       "      <th>Total Generation of Power (MWh)</th>\n",
       "    </tr>\n",
       "  </thead>\n",
       "  <tbody>\n",
       "    <tr>\n",
       "      <th>0</th>\n",
       "      <td>AK</td>\n",
       "      <td>6916431.0</td>\n",
       "    </tr>\n",
       "    <tr>\n",
       "      <th>1</th>\n",
       "      <td>AL</td>\n",
       "      <td>94490013.0</td>\n",
       "    </tr>\n",
       "    <tr>\n",
       "      <th>2</th>\n",
       "      <td>AR</td>\n",
       "      <td>55715570.0</td>\n",
       "    </tr>\n",
       "  </tbody>\n",
       "</table>\n",
       "</div>"
      ],
      "text/plain": [
       "  Utility by State  Total Generation of Power (MWh)\n",
       "0               AK                        6916431.0\n",
       "1               AL                       94490013.0\n",
       "2               AR                       55715570.0"
      ]
     },
     "execution_count": 11,
     "metadata": {},
     "output_type": "execute_result"
    }
   ],
   "source": [
    "pwr_generated_tot = df[['Sources.Total','Utility.State']].groupby('Utility.State').sum()\n",
    "pwr_generated_tot.reset_index(inplace=True)\n",
    "pwr_generated_tot = pwr_generated_tot.rename(columns={'Sources.Total': 'Total Generation of Power (MWh)', 'Utility.State':'Utility by State'})\n",
    "pwr_generated_tot.head(3)"
   ]
  },
  {
   "cell_type": "code",
   "execution_count": 12,
   "metadata": {},
   "outputs": [
    {
     "data": {
      "text/plain": [
       "<AxesSubplot:title={'center':'Total Generation of Power (MWh) by State'}, xlabel='Total Generation of Power (MWh)', ylabel='Utility by State'>"
      ]
     },
     "execution_count": 12,
     "metadata": {},
     "output_type": "execute_result"
    },
    {
     "data": {
      "image/png": "[encoded data removed]",
      "text/plain": [
       "<Figure size 640x800 with 1 Axes>"
      ]
     },
     "metadata": {},
     "output_type": "display_data"
    }
   ],
   "source": [
    "figure(figsize=(8, 10), dpi=80)\n",
    "fig1 = sns.barplot(data = pwr_generated_tot, y = 'Utility by State' ,x = 'Total Generation of Power (MWh)')\n",
    "fig1.axes.set_title('Total Generation of Power (MWh) by State', fontsize=20)\n",
    "fig1\n",
    "# plt.savefig ('totGenByState.png') # not now"
   ]
  },
  {
   "cell_type": "code",
   "execution_count": 13,
   "metadata": {},
   "outputs": [
    {
     "data": {
      "text/html": [
       "<div>\n",
       "<style scoped>\n",
       "    .dataframe tbody tr th:only-of-type {\n",
       "        vertical-align: middle;\n",
       "    }\n",
       "\n",
       "    .dataframe tbody tr th {\n",
       "        vertical-align: top;\n",
       "    }\n",
       "\n",
       "    .dataframe thead th {\n",
       "        text-align: right;\n",
       "    }\n",
       "</style>\n",
       "<table border=\"1\" class=\"dataframe\">\n",
       "  <thead>\n",
       "    <tr style=\"text-align: right;\">\n",
       "      <th></th>\n",
       "      <th>Utility by State</th>\n",
       "      <th>Total Generation of Power (MWh)</th>\n",
       "    </tr>\n",
       "  </thead>\n",
       "  <tbody>\n",
       "    <tr>\n",
       "      <th>0</th>\n",
       "      <td>TX</td>\n",
       "      <td>773840664.0</td>\n",
       "    </tr>\n",
       "    <tr>\n",
       "      <th>1</th>\n",
       "      <td>MD</td>\n",
       "      <td>514494283.0</td>\n",
       "    </tr>\n",
       "    <tr>\n",
       "      <th>2</th>\n",
       "      <td>CA</td>\n",
       "      <td>324458359.0</td>\n",
       "    </tr>\n",
       "  </tbody>\n",
       "</table>\n",
       "</div>"
      ],
      "text/plain": [
       "  Utility by State  Total Generation of Power (MWh)\n",
       "0               TX                      773840664.0\n",
       "1               MD                      514494283.0\n",
       "2               CA                      324458359.0"
      ]
     },
     "execution_count": 13,
     "metadata": {},
     "output_type": "execute_result"
    }
   ],
   "source": [
    "desc_pwr_generated_tot = pwr_generated_tot.sort_values(by='Total Generation of Power (MWh)', ascending=False).reset_index(drop=True)\n",
    "desc_pwr_generated_tot.head(3)"
   ]
  },
  {
   "cell_type": "code",
   "execution_count": 26,
   "metadata": {},
   "outputs": [
    {
     "data": {
      "text/plain": [
       "<AxesSubplot:title={'center':'Descending Order of Total Generation of Power (MWh) by State'}, xlabel='Total Generation of Power (MWh)', ylabel='Utility by State'>"
      ]
     },
     "execution_count": 26,
     "metadata": {},
     "output_type": "execute_result"
    },
    {
     "data": {
      "image/png": "[encoded data removed]",
      "text/plain": [
       "<Figure size 640x800 with 1 Axes>"
      ]
     },
     "metadata": {},
     "output_type": "display_data"
    }
   ],
   "source": [
    "figure(figsize=(8, 10), dpi=80)\n",
    "fig2 = sns.barplot(data = desc_pwr_generated_tot, y='Utility by State', x='Total Generation of Power (MWh)', order=desc_pwr_generated_tot[desc_pwr_generated_tot.sort_values(by='Total Generation of Power (MWh)', ascending=False).columns[0]])\n",
    "fig2.axes.set_title('Descending Order of Total Generation of Power (MWh) by State', fontsize=20)\n",
    "fig2"
   ]
  },
  {
   "cell_type": "code",
   "execution_count": null,
   "metadata": {},
   "outputs": [],
   "source": []
  }
 ],
 "metadata": {
  "kernelspec": {
   "display_name": "Python 3",
   "language": "python",
   "name": "python3"
  },
  "language_info": {
   "codemirror_mode": {
    "name": "ipython",
    "version": 3
   },
   "file_extension": ".py",
   "mimetype": "text/x-python",
   "name": "python",
   "nbconvert_exporter": "python",
   "pygments_lexer": "ipython3",
   "version": "3.8.5"
  }
 },
 "nbformat": 4,
 "nbformat_minor": 4
}
