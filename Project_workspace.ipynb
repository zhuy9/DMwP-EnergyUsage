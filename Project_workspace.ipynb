{
 "cells": [
  {
   "cell_type": "markdown",
   "metadata": {},
   "source": [
    "### Energy Usage"
   ]
  },
  {
   "cell_type": "code",
   "execution_count": 1,
   "metadata": {},
   "outputs": [],
   "source": [
    "import pandas as pd\n",
    "import matplotlib.pyplot as plt\n",
    "import seaborn as sns\n",
    "plt.style.use('ggplot')\n",
    "import warnings # 0 warnings :)\n",
    "warnings.filterwarnings(\"ignore\")\n",
    "from matplotlib.pyplot import figure\n",
    "from sklearn.metrics.pairwise import cosine_similarity\n",
    "\n",
    "### Set to True to update all the pics in the /Figure folder\n",
    "downloadPic = False\n",
    "# to-use:\n",
    "# if (downloadPic):\n",
    "#     plt.savefig ('Figure/nameOfPic.png')"
   ]
  },
  {
   "cell_type": "markdown",
   "metadata": {},
   "source": [
    "#### Data Import"
   ]
  },
  {
   "cell_type": "code",
   "execution_count": 2,
   "metadata": {},
   "outputs": [
    {
     "data": {
      "text/html": [
       "<div>\n",
       "<style scoped>\n",
       "    .dataframe tbody tr th:only-of-type {\n",
       "        vertical-align: middle;\n",
       "    }\n",
       "\n",
       "    .dataframe tbody tr th {\n",
       "        vertical-align: top;\n",
       "    }\n",
       "\n",
       "    .dataframe thead th {\n",
       "        text-align: right;\n",
       "    }\n",
       "</style>\n",
       "<table border=\"1\" class=\"dataframe\">\n",
       "  <thead>\n",
       "    <tr style=\"text-align: right;\">\n",
       "      <th></th>\n",
       "      <th>Utility.Number</th>\n",
       "      <th>Utility.Name</th>\n",
       "      <th>Utility.State</th>\n",
       "      <th>Utility.Type</th>\n",
       "      <th>Demand.Summer Peak</th>\n",
       "      <th>Demand.Winter Peak</th>\n",
       "      <th>Sources.Generation</th>\n",
       "      <th>Sources.Purchased</th>\n",
       "      <th>Sources.Other</th>\n",
       "      <th>Sources.Total</th>\n",
       "      <th>...</th>\n",
       "      <th>Retail.Commercial.Customers</th>\n",
       "      <th>Retail.Industrial.Revenue</th>\n",
       "      <th>Retail.Industrial.Sales</th>\n",
       "      <th>Retail.Industrial.Customers</th>\n",
       "      <th>Retail.Transportation.Revenue</th>\n",
       "      <th>Retail.Transportation.Sales</th>\n",
       "      <th>Retail.Transportation.Customers</th>\n",
       "      <th>Retail.Total.Revenue</th>\n",
       "      <th>Retail.Total.Sales</th>\n",
       "      <th>Retail.Total.Customers</th>\n",
       "    </tr>\n",
       "  </thead>\n",
       "  <tbody>\n",
       "    <tr>\n",
       "      <td>0</td>\n",
       "      <td>55</td>\n",
       "      <td>City of Aberdeen - (MS)</td>\n",
       "      <td>MS</td>\n",
       "      <td>Municipal</td>\n",
       "      <td>32.7</td>\n",
       "      <td>30.7</td>\n",
       "      <td>0.0</td>\n",
       "      <td>204875.0</td>\n",
       "      <td>0.0</td>\n",
       "      <td>204875.0</td>\n",
       "      <td>...</td>\n",
       "      <td>661.0</td>\n",
       "      <td>6025.0</td>\n",
       "      <td>118989.0</td>\n",
       "      <td>2.0</td>\n",
       "      <td>0.0</td>\n",
       "      <td>0.0</td>\n",
       "      <td>0.0</td>\n",
       "      <td>14649.0</td>\n",
       "      <td>198442.0</td>\n",
       "      <td>3258.0</td>\n",
       "    </tr>\n",
       "    <tr>\n",
       "      <td>1</td>\n",
       "      <td>59</td>\n",
       "      <td>City of Abbeville - (LA)</td>\n",
       "      <td>LA</td>\n",
       "      <td>Municipal</td>\n",
       "      <td>31.4</td>\n",
       "      <td>22.9</td>\n",
       "      <td>0.0</td>\n",
       "      <td>137537.0</td>\n",
       "      <td>0.0</td>\n",
       "      <td>137537.0</td>\n",
       "      <td>...</td>\n",
       "      <td>1032.0</td>\n",
       "      <td>3211.8</td>\n",
       "      <td>37566.0</td>\n",
       "      <td>27.0</td>\n",
       "      <td>0.0</td>\n",
       "      <td>0.0</td>\n",
       "      <td>0.0</td>\n",
       "      <td>12574.4</td>\n",
       "      <td>127849.0</td>\n",
       "      <td>5523.0</td>\n",
       "    </tr>\n",
       "  </tbody>\n",
       "</table>\n",
       "<p>2 rows × 38 columns</p>\n",
       "</div>"
      ],
      "text/plain": [
       "   Utility.Number              Utility.Name Utility.State Utility.Type  \\\n",
       "0              55   City of Aberdeen - (MS)            MS    Municipal   \n",
       "1              59  City of Abbeville - (LA)            LA    Municipal   \n",
       "\n",
       "   Demand.Summer Peak  Demand.Winter Peak  Sources.Generation  \\\n",
       "0                32.7                30.7                 0.0   \n",
       "1                31.4                22.9                 0.0   \n",
       "\n",
       "   Sources.Purchased  Sources.Other  Sources.Total  ...  \\\n",
       "0           204875.0            0.0       204875.0  ...   \n",
       "1           137537.0            0.0       137537.0  ...   \n",
       "\n",
       "   Retail.Commercial.Customers  Retail.Industrial.Revenue  \\\n",
       "0                        661.0                     6025.0   \n",
       "1                       1032.0                     3211.8   \n",
       "\n",
       "   Retail.Industrial.Sales  Retail.Industrial.Customers  \\\n",
       "0                 118989.0                          2.0   \n",
       "1                  37566.0                         27.0   \n",
       "\n",
       "   Retail.Transportation.Revenue  Retail.Transportation.Sales  \\\n",
       "0                            0.0                          0.0   \n",
       "1                            0.0                          0.0   \n",
       "\n",
       "   Retail.Transportation.Customers  Retail.Total.Revenue  Retail.Total.Sales  \\\n",
       "0                              0.0               14649.0            198442.0   \n",
       "1                              0.0               12574.4            127849.0   \n",
       "\n",
       "   Retail.Total.Customers  \n",
       "0                  3258.0  \n",
       "1                  5523.0  \n",
       "\n",
       "[2 rows x 38 columns]"
      ]
     },
     "execution_count": 2,
     "metadata": {},
     "output_type": "execute_result"
    }
   ],
   "source": [
    "df = pd.read_csv('electricity.csv')\n",
    "df.head(2)"
   ]
  },
  {
   "cell_type": "markdown",
   "metadata": {},
   "source": [
    "#### Cleaning Data"
   ]
  },
  {
   "cell_type": "code",
   "execution_count": 3,
   "metadata": {},
   "outputs": [
    {
     "name": "stdout",
     "output_type": "stream",
     "text": [
      "The initial dataframe size is: 80408\n"
     ]
    }
   ],
   "source": [
    "print('The initial dataframe size is: %d' % df.size)"
   ]
  },
  {
   "cell_type": "code",
   "execution_count": 4,
   "metadata": {},
   "outputs": [
    {
     "name": "stdout",
     "output_type": "stream",
     "text": [
      "After cleaning, the size is: 80370\n"
     ]
    }
   ],
   "source": [
    "# remove duplicates\n",
    "df.drop_duplicates()\n",
    "# drop rows containing na values\n",
    "df = df.dropna()\n",
    "print('After cleaning, the size is: %d' % df.size)"
   ]
  },
  {
   "cell_type": "markdown",
   "metadata": {},
   "source": [
    "#### Convert column(s) to appropriate data types"
   ]
  },
  {
   "cell_type": "code",
   "execution_count": 5,
   "metadata": {},
   "outputs": [],
   "source": [
    "# df.dtypes"
   ]
  },
  {
   "cell_type": "code",
   "execution_count": 6,
   "metadata": {},
   "outputs": [
    {
     "data": {
      "text/plain": [
       "Utility.Number                        int64\n",
       "Utility.Name                         object\n",
       "Utility.State                      category\n",
       "Utility.Type                       category\n",
       "Demand.Summer Peak                  float64\n",
       "Demand.Winter Peak                  float64\n",
       "Sources.Generation                  float64\n",
       "Sources.Purchased                   float64\n",
       "Sources.Other                       float64\n",
       "Sources.Total                       float64\n",
       "Uses.Retail                         float64\n",
       "Uses.Resale                         float64\n",
       "Uses.No Charge                      float64\n",
       "Uses.Consumed                       float64\n",
       "Uses.Losses                         float64\n",
       "Uses.Total                          float64\n",
       "Revenues.Retail                     float64\n",
       "Revenue.Delivery                    float64\n",
       "Revenue.Resale                      float64\n",
       "Revenue.Adjustments                 float64\n",
       "Revenue.Transmission                float64\n",
       "Revenue.Other                       float64\n",
       "Revenue.Total                       float64\n",
       "Retail.Residential.Revenue          float64\n",
       "Retail.Residential.Sales            float64\n",
       "Retail.Residential.Customers        float64\n",
       "Retail.Commercial.Revenue           float64\n",
       "Retail.Commercial.Sales             float64\n",
       "Retail.Commercial.Customers         float64\n",
       "Retail.Industrial.Revenue           float64\n",
       "Retail.Industrial.Sales             float64\n",
       "Retail.Industrial.Customers         float64\n",
       "Retail.Transportation.Revenue       float64\n",
       "Retail.Transportation.Sales         float64\n",
       "Retail.Transportation.Customers     float64\n",
       "Retail.Total.Revenue                float64\n",
       "Retail.Total.Sales                  float64\n",
       "Retail.Total.Customers              float64\n",
       "dtype: object"
      ]
     },
     "execution_count": 6,
     "metadata": {},
     "output_type": "execute_result"
    }
   ],
   "source": [
    "df['Utility.State'] = df['Utility.State'].astype('category')\n",
    "df['Utility.Type'] = df['Utility.Type'].astype('category')\n",
    "df.dtypes"
   ]
  },
  {
   "cell_type": "markdown",
   "metadata": {},
   "source": [
    "#### Rename some columns to remove the space"
   ]
  },
  {
   "cell_type": "code",
   "execution_count": 7,
   "metadata": {},
   "outputs": [
    {
     "data": {
      "text/plain": [
       "['Utility.Number',\n",
       " 'Utility.Name',\n",
       " 'Utility.State',\n",
       " 'Utility.Type',\n",
       " 'Demand.SummerPeak',\n",
       " 'Demand.WinterPeak',\n",
       " 'Sources.Generation',\n",
       " 'Sources.Purchased',\n",
       " 'Sources.Other',\n",
       " 'Sources.Total',\n",
       " 'Uses.Retail',\n",
       " 'Uses.Resale',\n",
       " 'Uses.NoCharge',\n",
       " 'Uses.Consumed',\n",
       " 'Uses.Losses',\n",
       " 'Uses.Total',\n",
       " 'Revenues.Retail',\n",
       " 'Revenue.Delivery',\n",
       " 'Revenue.Resale',\n",
       " 'Revenue.Adjustments',\n",
       " 'Revenue.Transmission',\n",
       " 'Revenue.Other',\n",
       " 'Revenue.Total',\n",
       " 'Retail.Residential.Revenue',\n",
       " 'Retail.Residential.Sales',\n",
       " 'Retail.Residential.Customers',\n",
       " 'Retail.Commercial.Revenue',\n",
       " 'Retail.Commercial.Sales',\n",
       " 'Retail.Commercial.Customers',\n",
       " 'Retail.Industrial.Revenue',\n",
       " 'Retail.Industrial.Sales',\n",
       " 'Retail.Industrial.Customers',\n",
       " 'Retail.Transportation.Revenue',\n",
       " 'Retail.Transportation.Sales',\n",
       " 'Retail.Transportation.Customers',\n",
       " 'Retail.Total.Revenue',\n",
       " 'Retail.Total.Sales',\n",
       " 'Retail.Total.Customers']"
      ]
     },
     "execution_count": 7,
     "metadata": {},
     "output_type": "execute_result"
    }
   ],
   "source": [
    "df = df.rename(columns={'Demand.Summer Peak': 'Demand.SummerPeak', 'Demand.Winter Peak': 'Demand.WinterPeak', 'Uses.No Charge':'Uses.NoCharge'})\n",
    "list(df.columns)"
   ]
  },
  {
   "cell_type": "markdown",
   "metadata": {},
   "source": [
    "### Compare Summer Peak Demand and Winter Peak Demand"
   ]
  },
  {
   "cell_type": "code",
   "execution_count": 8,
   "metadata": {},
   "outputs": [
    {
     "data": {
      "image/png": "[encoded data removed]",
      "text/plain": [
       "<Figure size 432x288 with 1 Axes>"
      ]
     },
     "metadata": {
      "needs_background": "light"
     },
     "output_type": "display_data"
    }
   ],
   "source": [
    "### Plot the Summer Peak and Winter Peak on one graph\n",
    "fig0 = df[['Demand.SummerPeak','Demand.WinterPeak']].plot.line(title = \"Summer Peak Demand vs. Winter Peak Demand\")\n",
    "fig0\n",
    "if (downloadPic):\n",
    "    plt.savefig ('Figure/summerWinterPeak.png') # not now"
   ]
  },
  {
   "cell_type": "code",
   "execution_count": 9,
   "metadata": {},
   "outputs": [
    {
     "name": "stdout",
     "output_type": "stream",
     "text": [
      "There are 45296 utilities where the summer peak is greater than winter peak.\n",
      "There are 836 utilities where the summer peak is equal to winter peak.\n",
      "There are 26068 utilities where the summer peak is lower than winter peak.\n"
     ]
    }
   ],
   "source": [
    "print(\"There are %d utilities where the summer peak is greater than winter peak.\" % df[df['Demand.SummerPeak'] > df['Demand.WinterPeak']].size)\n",
    "print(\"There are %d utilities where the summer peak is equal to winter peak.\" % df[df['Demand.SummerPeak'] == df['Demand.WinterPeak']][df['Demand.SummerPeak'] != 0].size)\n",
    "print(\"There are %d utilities where the summer peak is lower than winter peak.\" % df[df['Demand.SummerPeak'] < df['Demand.WinterPeak']].size)"
   ]
  },
  {
   "cell_type": "markdown",
   "metadata": {},
   "source": [
    "### Generation of Power by State and Utility Type"
   ]
  },
  {
   "cell_type": "code",
   "execution_count": 10,
   "metadata": {},
   "outputs": [
    {
     "data": {
      "text/html": [
       "<div>\n",
       "<style scoped>\n",
       "    .dataframe tbody tr th:only-of-type {\n",
       "        vertical-align: middle;\n",
       "    }\n",
       "\n",
       "    .dataframe tbody tr th {\n",
       "        vertical-align: top;\n",
       "    }\n",
       "\n",
       "    .dataframe thead tr th {\n",
       "        text-align: left;\n",
       "    }\n",
       "\n",
       "    .dataframe thead tr:last-of-type th {\n",
       "        text-align: right;\n",
       "    }\n",
       "</style>\n",
       "<table border=\"1\" class=\"dataframe\">\n",
       "  <thead>\n",
       "    <tr>\n",
       "      <th></th>\n",
       "      <th colspan=\"10\" halign=\"left\">Sources.Total</th>\n",
       "    </tr>\n",
       "    <tr>\n",
       "      <th>Utility.Type</th>\n",
       "      <th>Behind the Meter</th>\n",
       "      <th>Community Choice Aggregator</th>\n",
       "      <th>Cooperative</th>\n",
       "      <th>Federal</th>\n",
       "      <th>Investor Owned</th>\n",
       "      <th>Municipal</th>\n",
       "      <th>Political Subdivision</th>\n",
       "      <th>Retail Power Marketer</th>\n",
       "      <th>State</th>\n",
       "      <th>Wholesale Power Marketer</th>\n",
       "    </tr>\n",
       "    <tr>\n",
       "      <th>Utility.State</th>\n",
       "      <th></th>\n",
       "      <th></th>\n",
       "      <th></th>\n",
       "      <th></th>\n",
       "      <th></th>\n",
       "      <th></th>\n",
       "      <th></th>\n",
       "      <th></th>\n",
       "      <th></th>\n",
       "      <th></th>\n",
       "    </tr>\n",
       "  </thead>\n",
       "  <tbody>\n",
       "    <tr>\n",
       "      <td>AK</td>\n",
       "      <td>0.0</td>\n",
       "      <td>0.0</td>\n",
       "      <td>4518506.0</td>\n",
       "      <td>0.0</td>\n",
       "      <td>498375.0</td>\n",
       "      <td>1899550.0</td>\n",
       "      <td>0.0</td>\n",
       "      <td>0.0</td>\n",
       "      <td>0.0</td>\n",
       "      <td>0.0</td>\n",
       "    </tr>\n",
       "    <tr>\n",
       "      <td>AL</td>\n",
       "      <td>0.0</td>\n",
       "      <td>0.0</td>\n",
       "      <td>11583544.0</td>\n",
       "      <td>0.0</td>\n",
       "      <td>66545519.0</td>\n",
       "      <td>16360950.0</td>\n",
       "      <td>0.0</td>\n",
       "      <td>0.0</td>\n",
       "      <td>0.0</td>\n",
       "      <td>0.0</td>\n",
       "    </tr>\n",
       "    <tr>\n",
       "      <td>AR</td>\n",
       "      <td>0.0</td>\n",
       "      <td>0.0</td>\n",
       "      <td>13014097.0</td>\n",
       "      <td>0.0</td>\n",
       "      <td>31248886.0</td>\n",
       "      <td>6420696.0</td>\n",
       "      <td>0.0</td>\n",
       "      <td>5031891.0</td>\n",
       "      <td>0.0</td>\n",
       "      <td>0.0</td>\n",
       "    </tr>\n",
       "  </tbody>\n",
       "</table>\n",
       "</div>"
      ],
      "text/plain": [
       "                 Sources.Total                                          \\\n",
       "Utility.Type  Behind the Meter Community Choice Aggregator Cooperative   \n",
       "Utility.State                                                            \n",
       "AK                         0.0                         0.0   4518506.0   \n",
       "AL                         0.0                         0.0  11583544.0   \n",
       "AR                         0.0                         0.0  13014097.0   \n",
       "\n",
       "                                                                        \\\n",
       "Utility.Type  Federal Investor Owned   Municipal Political Subdivision   \n",
       "Utility.State                                                            \n",
       "AK                0.0       498375.0   1899550.0                   0.0   \n",
       "AL                0.0     66545519.0  16360950.0                   0.0   \n",
       "AR                0.0     31248886.0   6420696.0                   0.0   \n",
       "\n",
       "                                                                    \n",
       "Utility.Type  Retail Power Marketer State Wholesale Power Marketer  \n",
       "Utility.State                                                       \n",
       "AK                              0.0   0.0                      0.0  \n",
       "AL                              0.0   0.0                      0.0  \n",
       "AR                        5031891.0   0.0                      0.0  "
      ]
     },
     "execution_count": 10,
     "metadata": {},
     "output_type": "execute_result"
    }
   ],
   "source": [
    "pwr_generated = pd.pivot_table(df, values=['Sources.Total'], index=['Utility.State'], columns=['Utility.Type'], aggfunc='sum').fillna(0)\n",
    "pwr_generated.head(3)"
   ]
  },
  {
   "cell_type": "code",
   "execution_count": 11,
   "metadata": {},
   "outputs": [
    {
     "data": {
      "text/html": [
       "<div>\n",
       "<style scoped>\n",
       "    .dataframe tbody tr th:only-of-type {\n",
       "        vertical-align: middle;\n",
       "    }\n",
       "\n",
       "    .dataframe tbody tr th {\n",
       "        vertical-align: top;\n",
       "    }\n",
       "\n",
       "    .dataframe thead th {\n",
       "        text-align: right;\n",
       "    }\n",
       "</style>\n",
       "<table border=\"1\" class=\"dataframe\">\n",
       "  <thead>\n",
       "    <tr style=\"text-align: right;\">\n",
       "      <th></th>\n",
       "      <th>Utility by State</th>\n",
       "      <th>Total Generation of Power (MWh)</th>\n",
       "    </tr>\n",
       "  </thead>\n",
       "  <tbody>\n",
       "    <tr>\n",
       "      <td>0</td>\n",
       "      <td>AK</td>\n",
       "      <td>6916431.0</td>\n",
       "    </tr>\n",
       "    <tr>\n",
       "      <td>1</td>\n",
       "      <td>AL</td>\n",
       "      <td>94490013.0</td>\n",
       "    </tr>\n",
       "    <tr>\n",
       "      <td>2</td>\n",
       "      <td>AR</td>\n",
       "      <td>55715570.0</td>\n",
       "    </tr>\n",
       "  </tbody>\n",
       "</table>\n",
       "</div>"
      ],
      "text/plain": [
       "  Utility by State  Total Generation of Power (MWh)\n",
       "0               AK                        6916431.0\n",
       "1               AL                       94490013.0\n",
       "2               AR                       55715570.0"
      ]
     },
     "execution_count": 11,
     "metadata": {},
     "output_type": "execute_result"
    }
   ],
   "source": [
    "pwr_generated_tot = df[['Sources.Total','Utility.State']].groupby('Utility.State').sum()\n",
    "pwr_generated_tot.reset_index(inplace=True)\n",
    "pwr_generated_tot = pwr_generated_tot.rename(columns={'Sources.Total': 'Total Generation of Power (MWh)', 'Utility.State':'Utility by State'})\n",
    "pwr_generated_tot.head(3)"
   ]
  },
  {
   "cell_type": "code",
   "execution_count": 12,
   "metadata": {},
   "outputs": [],
   "source": [
    "# figure(figsize=(8, 10), dpi=80)\n",
    "# fig1 = sns.barplot(data = pwr_generated_tot, y = 'Utility by State' ,x = 'Total Generation of Power (MWh)')\n",
    "# fig1.axes.set_title('Total Generation of Power (MWh) by State', fontsize=20)\n",
    "# fig1 (see the descending one) (below)\n",
    "# plt.savefig ('Figure/totGenByState.png') # not now"
   ]
  },
  {
   "cell_type": "code",
   "execution_count": 13,
   "metadata": {},
   "outputs": [
    {
     "data": {
      "text/html": [
       "<div>\n",
       "<style scoped>\n",
       "    .dataframe tbody tr th:only-of-type {\n",
       "        vertical-align: middle;\n",
       "    }\n",
       "\n",
       "    .dataframe tbody tr th {\n",
       "        vertical-align: top;\n",
       "    }\n",
       "\n",
       "    .dataframe thead th {\n",
       "        text-align: right;\n",
       "    }\n",
       "</style>\n",
       "<table border=\"1\" class=\"dataframe\">\n",
       "  <thead>\n",
       "    <tr style=\"text-align: right;\">\n",
       "      <th></th>\n",
       "      <th>Utility by State</th>\n",
       "      <th>Total Generation of Power (MWh)</th>\n",
       "    </tr>\n",
       "  </thead>\n",
       "  <tbody>\n",
       "    <tr>\n",
       "      <td>0</td>\n",
       "      <td>TX</td>\n",
       "      <td>773840664.0</td>\n",
       "    </tr>\n",
       "    <tr>\n",
       "      <td>1</td>\n",
       "      <td>MD</td>\n",
       "      <td>514494283.0</td>\n",
       "    </tr>\n",
       "    <tr>\n",
       "      <td>2</td>\n",
       "      <td>CA</td>\n",
       "      <td>324458359.0</td>\n",
       "    </tr>\n",
       "  </tbody>\n",
       "</table>\n",
       "</div>"
      ],
      "text/plain": [
       "  Utility by State  Total Generation of Power (MWh)\n",
       "0               TX                      773840664.0\n",
       "1               MD                      514494283.0\n",
       "2               CA                      324458359.0"
      ]
     },
     "execution_count": 13,
     "metadata": {},
     "output_type": "execute_result"
    }
   ],
   "source": [
    "desc_pwr_generated_tot = pwr_generated_tot.sort_values(by='Total Generation of Power (MWh)', ascending=False).reset_index(drop=True)\n",
    "desc_pwr_generated_tot.head(3)"
   ]
  },
  {
   "cell_type": "code",
   "execution_count": 14,
   "metadata": {},
   "outputs": [
    {
     "data": {
      "image/png": "[encoded data removed]",
      "text/plain": [
       "<Figure size 640x800 with 1 Axes>"
      ]
     },
     "metadata": {
      "needs_background": "light"
     },
     "output_type": "display_data"
    }
   ],
   "source": [
    "figure(figsize=(8, 10), dpi=80)\n",
    "fig2 = sns.barplot(data = desc_pwr_generated_tot, y='Utility by State', x='Total Generation of Power (MWh)', order=desc_pwr_generated_tot[desc_pwr_generated_tot.sort_values(by='Total Generation of Power (MWh)', ascending=False).columns[0]])\n",
    "fig2.axes.set_title('Descending Order of Total Generation of Power (MWh) by State', fontsize=20)\n",
    "fig2\n",
    "if (downloadPic):\n",
    "    plt.savefig ('Figure/totGenByState.png') # not now"
   ]
  },
  {
   "cell_type": "code",
   "execution_count": 15,
   "metadata": {},
   "outputs": [
    {
     "data": {
      "text/html": [
       "<div>\n",
       "<style scoped>\n",
       "    .dataframe tbody tr th:only-of-type {\n",
       "        vertical-align: middle;\n",
       "    }\n",
       "\n",
       "    .dataframe tbody tr th {\n",
       "        vertical-align: top;\n",
       "    }\n",
       "\n",
       "    .dataframe thead tr th {\n",
       "        text-align: left;\n",
       "    }\n",
       "\n",
       "    .dataframe thead tr:last-of-type th {\n",
       "        text-align: right;\n",
       "    }\n",
       "</style>\n",
       "<table border=\"1\" class=\"dataframe\">\n",
       "  <thead>\n",
       "    <tr>\n",
       "      <th></th>\n",
       "      <th colspan=\"10\" halign=\"left\">Revenue.Total</th>\n",
       "    </tr>\n",
       "    <tr>\n",
       "      <th>Utility.Type</th>\n",
       "      <th>Behind the Meter</th>\n",
       "      <th>Community Choice Aggregator</th>\n",
       "      <th>Cooperative</th>\n",
       "      <th>Federal</th>\n",
       "      <th>Investor Owned</th>\n",
       "      <th>Municipal</th>\n",
       "      <th>Political Subdivision</th>\n",
       "      <th>Retail Power Marketer</th>\n",
       "      <th>State</th>\n",
       "      <th>Wholesale Power Marketer</th>\n",
       "    </tr>\n",
       "    <tr>\n",
       "      <th>Utility.State</th>\n",
       "      <th></th>\n",
       "      <th></th>\n",
       "      <th></th>\n",
       "      <th></th>\n",
       "      <th></th>\n",
       "      <th></th>\n",
       "      <th></th>\n",
       "      <th></th>\n",
       "      <th></th>\n",
       "      <th></th>\n",
       "    </tr>\n",
       "  </thead>\n",
       "  <tbody>\n",
       "    <tr>\n",
       "      <td>AK</td>\n",
       "      <td>0.0</td>\n",
       "      <td>0.0</td>\n",
       "      <td>833097.4</td>\n",
       "      <td>0.0</td>\n",
       "      <td>62338.6</td>\n",
       "      <td>265592.7</td>\n",
       "      <td>0.0</td>\n",
       "      <td>0.0</td>\n",
       "      <td>0.0</td>\n",
       "      <td>0.0</td>\n",
       "    </tr>\n",
       "    <tr>\n",
       "      <td>AL</td>\n",
       "      <td>0.0</td>\n",
       "      <td>0.0</td>\n",
       "      <td>1260212.1</td>\n",
       "      <td>0.0</td>\n",
       "      <td>6039394.0</td>\n",
       "      <td>1528590.4</td>\n",
       "      <td>0.0</td>\n",
       "      <td>0.0</td>\n",
       "      <td>0.0</td>\n",
       "      <td>0.0</td>\n",
       "    </tr>\n",
       "    <tr>\n",
       "      <td>AR</td>\n",
       "      <td>0.0</td>\n",
       "      <td>0.0</td>\n",
       "      <td>1252673.1</td>\n",
       "      <td>0.0</td>\n",
       "      <td>2125292.8</td>\n",
       "      <td>480709.2</td>\n",
       "      <td>0.0</td>\n",
       "      <td>257955.8</td>\n",
       "      <td>0.0</td>\n",
       "      <td>0.0</td>\n",
       "    </tr>\n",
       "  </tbody>\n",
       "</table>\n",
       "</div>"
      ],
      "text/plain": [
       "                 Revenue.Total                                          \\\n",
       "Utility.Type  Behind the Meter Community Choice Aggregator Cooperative   \n",
       "Utility.State                                                            \n",
       "AK                         0.0                         0.0    833097.4   \n",
       "AL                         0.0                         0.0   1260212.1   \n",
       "AR                         0.0                         0.0   1252673.1   \n",
       "\n",
       "                                                                       \\\n",
       "Utility.Type  Federal Investor Owned  Municipal Political Subdivision   \n",
       "Utility.State                                                           \n",
       "AK                0.0        62338.6   265592.7                   0.0   \n",
       "AL                0.0      6039394.0  1528590.4                   0.0   \n",
       "AR                0.0      2125292.8   480709.2                   0.0   \n",
       "\n",
       "                                                                    \n",
       "Utility.Type  Retail Power Marketer State Wholesale Power Marketer  \n",
       "Utility.State                                                       \n",
       "AK                              0.0   0.0                      0.0  \n",
       "AL                              0.0   0.0                      0.0  \n",
       "AR                         257955.8   0.0                      0.0  "
      ]
     },
     "execution_count": 15,
     "metadata": {},
     "output_type": "execute_result"
    }
   ],
   "source": [
    "revenue = pd.pivot_table(df, values=['Revenue.Total'], index=['Utility.State'], columns=['Utility.Type'], aggfunc='sum').fillna(0)\n",
    "revenue.head(3)"
   ]
  },
  {
   "cell_type": "code",
   "execution_count": 16,
   "metadata": {},
   "outputs": [
    {
     "data": {
      "text/html": [
       "<div>\n",
       "<style scoped>\n",
       "    .dataframe tbody tr th:only-of-type {\n",
       "        vertical-align: middle;\n",
       "    }\n",
       "\n",
       "    .dataframe tbody tr th {\n",
       "        vertical-align: top;\n",
       "    }\n",
       "\n",
       "    .dataframe thead th {\n",
       "        text-align: right;\n",
       "    }\n",
       "</style>\n",
       "<table border=\"1\" class=\"dataframe\">\n",
       "  <thead>\n",
       "    <tr style=\"text-align: right;\">\n",
       "      <th></th>\n",
       "      <th>Utility by State</th>\n",
       "      <th>Total Revenue (Thousand of US dollars)</th>\n",
       "    </tr>\n",
       "  </thead>\n",
       "  <tbody>\n",
       "    <tr>\n",
       "      <td>0</td>\n",
       "      <td>AK</td>\n",
       "      <td>1161028.7</td>\n",
       "    </tr>\n",
       "    <tr>\n",
       "      <td>1</td>\n",
       "      <td>AL</td>\n",
       "      <td>8828196.5</td>\n",
       "    </tr>\n",
       "    <tr>\n",
       "      <td>2</td>\n",
       "      <td>AR</td>\n",
       "      <td>4116630.9</td>\n",
       "    </tr>\n",
       "  </tbody>\n",
       "</table>\n",
       "</div>"
      ],
      "text/plain": [
       "  Utility by State  Total Revenue (Thousand of US dollars)\n",
       "0               AK                               1161028.7\n",
       "1               AL                               8828196.5\n",
       "2               AR                               4116630.9"
      ]
     },
     "execution_count": 16,
     "metadata": {},
     "output_type": "execute_result"
    }
   ],
   "source": [
    "revenue_tot = df[['Revenue.Total','Utility.State']].groupby('Utility.State').sum()\n",
    "revenue_tot.reset_index(inplace=True)\n",
    "revenue_tot = revenue_tot.rename(columns={'Revenue.Total': 'Total Revenue (Thousand of US dollars)', 'Utility.State':'Utility by State'})\n",
    "revenue_tot.head(3)"
   ]
  },
  {
   "cell_type": "code",
   "execution_count": 17,
   "metadata": {},
   "outputs": [
    {
     "data": {
      "image/png": "[encoded data removed]",
      "text/plain": [
       "<Figure size 640x800 with 1 Axes>"
      ]
     },
     "metadata": {
      "needs_background": "light"
     },
     "output_type": "display_data"
    }
   ],
   "source": [
    "figure(figsize=(8, 10), dpi=80)\n",
    "fig3 = sns.barplot(data = revenue_tot, y = 'Utility by State' ,x = 'Total Revenue (Thousand of US dollars)')\n",
    "fig3.axes.set_title('Total Revenue (Thousand of US dollars) by State', fontsize=20)\n",
    "fig3\n",
    "if (downloadPic):\n",
    "    plt.savefig ('Figure/totRevenueByState.png') # not now"
   ]
  },
  {
   "cell_type": "code",
   "execution_count": 18,
   "metadata": {},
   "outputs": [
    {
     "data": {
      "text/html": [
       "<div>\n",
       "<style scoped>\n",
       "    .dataframe tbody tr th:only-of-type {\n",
       "        vertical-align: middle;\n",
       "    }\n",
       "\n",
       "    .dataframe tbody tr th {\n",
       "        vertical-align: top;\n",
       "    }\n",
       "\n",
       "    .dataframe thead tr th {\n",
       "        text-align: left;\n",
       "    }\n",
       "\n",
       "    .dataframe thead tr:last-of-type th {\n",
       "        text-align: right;\n",
       "    }\n",
       "</style>\n",
       "<table border=\"1\" class=\"dataframe\">\n",
       "  <thead>\n",
       "    <tr>\n",
       "      <th></th>\n",
       "      <th colspan=\"10\" halign=\"left\">Uses.Losses</th>\n",
       "    </tr>\n",
       "    <tr>\n",
       "      <th>Utility.Type</th>\n",
       "      <th>Behind the Meter</th>\n",
       "      <th>Community Choice Aggregator</th>\n",
       "      <th>Cooperative</th>\n",
       "      <th>Federal</th>\n",
       "      <th>Investor Owned</th>\n",
       "      <th>Municipal</th>\n",
       "      <th>Political Subdivision</th>\n",
       "      <th>Retail Power Marketer</th>\n",
       "      <th>State</th>\n",
       "      <th>Wholesale Power Marketer</th>\n",
       "    </tr>\n",
       "    <tr>\n",
       "      <th>Utility.State</th>\n",
       "      <th></th>\n",
       "      <th></th>\n",
       "      <th></th>\n",
       "      <th></th>\n",
       "      <th></th>\n",
       "      <th></th>\n",
       "      <th></th>\n",
       "      <th></th>\n",
       "      <th></th>\n",
       "      <th></th>\n",
       "    </tr>\n",
       "  </thead>\n",
       "  <tbody>\n",
       "    <tr>\n",
       "      <td>AK</td>\n",
       "      <td>0.0</td>\n",
       "      <td>0.0</td>\n",
       "      <td>287652.0</td>\n",
       "      <td>0.0</td>\n",
       "      <td>16610.0</td>\n",
       "      <td>52823.0</td>\n",
       "      <td>0.0</td>\n",
       "      <td>0.0</td>\n",
       "      <td>0.0</td>\n",
       "      <td>0.0</td>\n",
       "    </tr>\n",
       "    <tr>\n",
       "      <td>AL</td>\n",
       "      <td>0.0</td>\n",
       "      <td>0.0</td>\n",
       "      <td>575125.0</td>\n",
       "      <td>0.0</td>\n",
       "      <td>3128158.0</td>\n",
       "      <td>745066.0</td>\n",
       "      <td>0.0</td>\n",
       "      <td>0.0</td>\n",
       "      <td>0.0</td>\n",
       "      <td>0.0</td>\n",
       "    </tr>\n",
       "    <tr>\n",
       "      <td>AR</td>\n",
       "      <td>0.0</td>\n",
       "      <td>0.0</td>\n",
       "      <td>582760.0</td>\n",
       "      <td>0.0</td>\n",
       "      <td>1976461.0</td>\n",
       "      <td>228749.0</td>\n",
       "      <td>0.0</td>\n",
       "      <td>280451.0</td>\n",
       "      <td>0.0</td>\n",
       "      <td>0.0</td>\n",
       "    </tr>\n",
       "  </tbody>\n",
       "</table>\n",
       "</div>"
      ],
      "text/plain": [
       "                   Uses.Losses                                          \\\n",
       "Utility.Type  Behind the Meter Community Choice Aggregator Cooperative   \n",
       "Utility.State                                                            \n",
       "AK                         0.0                         0.0    287652.0   \n",
       "AL                         0.0                         0.0    575125.0   \n",
       "AR                         0.0                         0.0    582760.0   \n",
       "\n",
       "                                                                      \\\n",
       "Utility.Type  Federal Investor Owned Municipal Political Subdivision   \n",
       "Utility.State                                                          \n",
       "AK                0.0        16610.0   52823.0                   0.0   \n",
       "AL                0.0      3128158.0  745066.0                   0.0   \n",
       "AR                0.0      1976461.0  228749.0                   0.0   \n",
       "\n",
       "                                                                    \n",
       "Utility.Type  Retail Power Marketer State Wholesale Power Marketer  \n",
       "Utility.State                                                       \n",
       "AK                              0.0   0.0                      0.0  \n",
       "AL                              0.0   0.0                      0.0  \n",
       "AR                         280451.0   0.0                      0.0  "
      ]
     },
     "execution_count": 18,
     "metadata": {},
     "output_type": "execute_result"
    }
   ],
   "source": [
    "use_loss = pd.pivot_table(df, values=['Uses.Losses'], index=['Utility.State'], columns=['Utility.Type'], aggfunc='sum').fillna(0)\n",
    "use_loss.head(3)"
   ]
  },
  {
   "cell_type": "code",
   "execution_count": 19,
   "metadata": {},
   "outputs": [
    {
     "data": {
      "text/html": [
       "<div>\n",
       "<style scoped>\n",
       "    .dataframe tbody tr th:only-of-type {\n",
       "        vertical-align: middle;\n",
       "    }\n",
       "\n",
       "    .dataframe tbody tr th {\n",
       "        vertical-align: top;\n",
       "    }\n",
       "\n",
       "    .dataframe thead th {\n",
       "        text-align: right;\n",
       "    }\n",
       "</style>\n",
       "<table border=\"1\" class=\"dataframe\">\n",
       "  <thead>\n",
       "    <tr style=\"text-align: right;\">\n",
       "      <th></th>\n",
       "      <th>Utility by State</th>\n",
       "      <th>Power losses of all kinds measured in megawatt hours</th>\n",
       "    </tr>\n",
       "  </thead>\n",
       "  <tbody>\n",
       "    <tr>\n",
       "      <td>0</td>\n",
       "      <td>AK</td>\n",
       "      <td>357085.0</td>\n",
       "    </tr>\n",
       "    <tr>\n",
       "      <td>1</td>\n",
       "      <td>AL</td>\n",
       "      <td>4448349.0</td>\n",
       "    </tr>\n",
       "    <tr>\n",
       "      <td>2</td>\n",
       "      <td>AR</td>\n",
       "      <td>3068421.0</td>\n",
       "    </tr>\n",
       "  </tbody>\n",
       "</table>\n",
       "</div>"
      ],
      "text/plain": [
       "  Utility by State  Power losses of all kinds measured in megawatt hours\n",
       "0               AK                                           357085.0   \n",
       "1               AL                                          4448349.0   \n",
       "2               AR                                          3068421.0   "
      ]
     },
     "execution_count": 19,
     "metadata": {},
     "output_type": "execute_result"
    }
   ],
   "source": [
    "use_loss_tot = df[['Uses.Losses','Utility.State']].groupby('Utility.State').sum()\n",
    "use_loss_tot.reset_index(inplace=True)\n",
    "use_loss_tot = use_loss_tot.rename(columns={'Uses.Losses': 'Power losses of all kinds measured in megawatt hours', 'Utility.State':'Utility by State'})\n",
    "use_loss_tot.head(3)"
   ]
  },
  {
   "cell_type": "code",
   "execution_count": 20,
   "metadata": {},
   "outputs": [
    {
     "data": {
      "image/png": "[encoded data removed]",
      "text/plain": [
       "<Figure size 640x800 with 1 Axes>"
      ]
     },
     "metadata": {
      "needs_background": "light"
     },
     "output_type": "display_data"
    }
   ],
   "source": [
    "figure(figsize=(8, 10), dpi=80)\n",
    "fig4 = sns.barplot(data = use_loss_tot, y = 'Utility by State' ,x = 'Power losses of all kinds measured in megawatt hours')\n",
    "fig4.axes.set_title('Power losses of all kinds measured in megawatt hours', fontsize=20)\n",
    "fig4\n",
    "if (downloadPic):\n",
    "    plt.savefig ('Figure/powerLossAllKinds.png') # not now"
   ]
  },
  {
   "cell_type": "code",
   "execution_count": 21,
   "metadata": {},
   "outputs": [
    {
     "data": {
      "image/png": "[encoded data removed]",
      "text/plain": [
       "<Figure size 432x288 with 1 Axes>"
      ]
     },
     "metadata": {
      "needs_background": "light"
     },
     "output_type": "display_data"
    }
   ],
   "source": [
    "revenue_tot.boxplot(column = \"Total Revenue (Thousand of US dollars)\")\n",
    "if (downloadPic):\n",
    "    plt.savefig ('Figure/totRevenue.png') # not now"
   ]
  },
  {
   "cell_type": "code",
   "execution_count": 22,
   "metadata": {},
   "outputs": [
    {
     "data": {
      "image/png": "[encoded data removed]",
      "text/plain": [
       "<Figure size 432x288 with 1 Axes>"
      ]
     },
     "metadata": {
      "needs_background": "light"
     },
     "output_type": "display_data"
    }
   ],
   "source": [
    "ax = use_loss_tot.boxplot()\n",
    "ax.set_ylabel(\"Total use loss\")\n",
    "if (downloadPic):\n",
    "    plt.savefig ('Figure/totUseLoss.png') # not now"
   ]
  },
  {
   "cell_type": "markdown",
   "metadata": {},
   "source": [
    "### Total Generation of Power (MWh) by Utility Type"
   ]
  },
  {
   "cell_type": "code",
   "execution_count": 23,
   "metadata": {},
   "outputs": [
    {
     "data": {
      "text/html": [
       "<div>\n",
       "<style scoped>\n",
       "    .dataframe tbody tr th:only-of-type {\n",
       "        vertical-align: middle;\n",
       "    }\n",
       "\n",
       "    .dataframe tbody tr th {\n",
       "        vertical-align: top;\n",
       "    }\n",
       "\n",
       "    .dataframe thead th {\n",
       "        text-align: right;\n",
       "    }\n",
       "</style>\n",
       "<table border=\"1\" class=\"dataframe\">\n",
       "  <thead>\n",
       "    <tr style=\"text-align: right;\">\n",
       "      <th></th>\n",
       "      <th>Utility by Type</th>\n",
       "      <th>Total Generation of Power (MWh)</th>\n",
       "    </tr>\n",
       "  </thead>\n",
       "  <tbody>\n",
       "    <tr>\n",
       "      <td>0</td>\n",
       "      <td>Behind the Meter</td>\n",
       "      <td>6151714.0</td>\n",
       "    </tr>\n",
       "    <tr>\n",
       "      <td>1</td>\n",
       "      <td>Community Choice Aggregator</td>\n",
       "      <td>11826361.0</td>\n",
       "    </tr>\n",
       "    <tr>\n",
       "      <td>2</td>\n",
       "      <td>Cooperative</td>\n",
       "      <td>494085488.0</td>\n",
       "    </tr>\n",
       "  </tbody>\n",
       "</table>\n",
       "</div>"
      ],
      "text/plain": [
       "               Utility by Type  Total Generation of Power (MWh)\n",
       "0             Behind the Meter                        6151714.0\n",
       "1  Community Choice Aggregator                       11826361.0\n",
       "2                  Cooperative                      494085488.0"
      ]
     },
     "execution_count": 23,
     "metadata": {},
     "output_type": "execute_result"
    }
   ],
   "source": [
    "pwr_generated_type_tot = df[['Sources.Total','Utility.Type']].groupby('Utility.Type').sum()\n",
    "pwr_generated_type_tot.reset_index(inplace=True)\n",
    "pwr_generated_type_tot = pwr_generated_type_tot.rename(columns={'Sources.Total': 'Total Generation of Power (MWh)', 'Utility.Type':'Utility by Type'})\n",
    "pwr_generated_type_tot.head(3)"
   ]
  },
  {
   "cell_type": "code",
   "execution_count": 24,
   "metadata": {},
   "outputs": [
    {
     "data": {
      "image/png": "[encoded data removed]",
      "text/plain": [
       "<Figure size 640x400 with 1 Axes>"
      ]
     },
     "metadata": {
      "needs_background": "light"
     },
     "output_type": "display_data"
    }
   ],
   "source": [
    "# fig2_order = pwr_generated_type_tot.sort_values(by='Total Generation of Power (MWh)').index.values # not working, FIXME\n",
    "figure(figsize=(8, 5), dpi=80)\n",
    "fig2 = sns.barplot(data = pwr_generated_type_tot, y = 'Utility by Type' ,x = 'Total Generation of Power (MWh)', palette = \"Blues\")\n",
    "fig2.axes.set_title('Total Generation of Power (MWh) by Utility Type', fontsize=20)\n",
    "fig2\n",
    "if (downloadPic):\n",
    "    plt.savefig ('Figure/totGenByUType.png') # not now"
   ]
  },
  {
   "cell_type": "markdown",
   "metadata": {},
   "source": [
    "### Peak Demand (Summer) vs. Generation"
   ]
  },
  {
   "cell_type": "code",
   "execution_count": 25,
   "metadata": {},
   "outputs": [
    {
     "data": {
      "image/png": "[encoded data removed]",
      "text/plain": [
       "<Figure size 432x288 with 1 Axes>"
      ]
     },
     "metadata": {
      "needs_background": "light"
     },
     "output_type": "display_data"
    }
   ],
   "source": [
    "sum_demand_gen = df[['Demand.SummerPeak','Sources.Total']]\n",
    "sum_demand_gen = sum_demand_gen.rename(columns={'Sources.Total': 'Total Generation of Power (MWh)', 'Demand.SummerPeak':'Summer Peak Demand'})\n",
    "fig3 = sns.scatterplot(data = sum_demand_gen, y = 'Summer Peak Demand' ,x = 'Total Generation of Power (MWh)')\n",
    "fig3.axes.set_title('Peak Summer Demand VS Generation', fontsize = 20)\n",
    "fig3\n",
    "if (downloadPic):\n",
    "    plt.savefig ('Figure/peakDemandSumVsGen.png') # not now"
   ]
  },
  {
   "cell_type": "markdown",
   "metadata": {},
   "source": [
    "### Peak Demand (Winter) vs. Generation"
   ]
  },
  {
   "cell_type": "code",
   "execution_count": 26,
   "metadata": {},
   "outputs": [
    {
     "data": {
      "image/png": "[encoded data removed]",
      "text/plain": [
       "<Figure size 432x288 with 1 Axes>"
      ]
     },
     "metadata": {
      "needs_background": "light"
     },
     "output_type": "display_data"
    }
   ],
   "source": [
    "win_demand_gen = df[['Demand.WinterPeak','Sources.Total']]\n",
    "win_demand_gen = win_demand_gen.rename(columns={'Sources.Total': 'Total Generation of Power (MWh)', 'Demand.WinterPeak':'Winter Peak Demand'})\n",
    "fig3 = sns.scatterplot(data = win_demand_gen, y = 'Winter Peak Demand' ,x = 'Total Generation of Power (MWh)')\n",
    "fig3.axes.set_title('Peak Winter Demand VS Generation', fontsize = 20)\n",
    "fig3\n",
    "if (downloadPic):\n",
    "    plt.savefig ('Figure/peakDemandWinVsGen.png') # not now"
   ]
  },
  {
   "cell_type": "markdown",
   "metadata": {},
   "source": [
    "### Similarities between power generated and revenue"
   ]
  },
  {
   "cell_type": "code",
   "execution_count": 27,
   "metadata": {},
   "outputs": [
    {
     "data": {
      "text/html": [
       "<div>\n",
       "<style scoped>\n",
       "    .dataframe tbody tr th:only-of-type {\n",
       "        vertical-align: middle;\n",
       "    }\n",
       "\n",
       "    .dataframe tbody tr th {\n",
       "        vertical-align: top;\n",
       "    }\n",
       "\n",
       "    .dataframe thead th {\n",
       "        text-align: right;\n",
       "    }\n",
       "</style>\n",
       "<table border=\"1\" class=\"dataframe\">\n",
       "  <thead>\n",
       "    <tr style=\"text-align: right;\">\n",
       "      <th></th>\n",
       "      <th>Utility by State</th>\n",
       "      <th>Total Generation of Power (MWh)</th>\n",
       "      <th>Total Revenue (Thousand of US dollars)</th>\n",
       "    </tr>\n",
       "  </thead>\n",
       "  <tbody>\n",
       "    <tr>\n",
       "      <td>0</td>\n",
       "      <td>AK</td>\n",
       "      <td>6916431.0</td>\n",
       "      <td>1161028.7</td>\n",
       "    </tr>\n",
       "    <tr>\n",
       "      <td>1</td>\n",
       "      <td>AL</td>\n",
       "      <td>94490013.0</td>\n",
       "      <td>8828196.5</td>\n",
       "    </tr>\n",
       "    <tr>\n",
       "      <td>2</td>\n",
       "      <td>AR</td>\n",
       "      <td>55715570.0</td>\n",
       "      <td>4116630.9</td>\n",
       "    </tr>\n",
       "    <tr>\n",
       "      <td>3</td>\n",
       "      <td>AZ</td>\n",
       "      <td>96248652.0</td>\n",
       "      <td>9075302.1</td>\n",
       "    </tr>\n",
       "    <tr>\n",
       "      <td>4</td>\n",
       "      <td>CA</td>\n",
       "      <td>324458359.0</td>\n",
       "      <td>43229971.8</td>\n",
       "    </tr>\n",
       "  </tbody>\n",
       "</table>\n",
       "</div>"
      ],
      "text/plain": [
       "  Utility by State  Total Generation of Power (MWh)  \\\n",
       "0               AK                        6916431.0   \n",
       "1               AL                       94490013.0   \n",
       "2               AR                       55715570.0   \n",
       "3               AZ                       96248652.0   \n",
       "4               CA                      324458359.0   \n",
       "\n",
       "   Total Revenue (Thousand of US dollars)  \n",
       "0                               1161028.7  \n",
       "1                               8828196.5  \n",
       "2                               4116630.9  \n",
       "3                               9075302.1  \n",
       "4                              43229971.8  "
      ]
     },
     "execution_count": 27,
     "metadata": {},
     "output_type": "execute_result"
    }
   ],
   "source": [
    "df_temp = pd.merge(pwr_generated_tot, revenue_tot)\n",
    "df_temp.head(5)"
   ]
  },
  {
   "cell_type": "code",
   "execution_count": 28,
   "metadata": {},
   "outputs": [
    {
     "data": {
      "text/plain": [
       "<matplotlib.axes._subplots.AxesSubplot at 0x7fd261c3ed10>"
      ]
     },
     "execution_count": 28,
     "metadata": {},
     "output_type": "execute_result"
    },
    {
     "data": {
      "image/png": "[encoded data removed]",
      "text/plain": [
       "<Figure size 432x288 with 1 Axes>"
      ]
     },
     "metadata": {
      "needs_background": "light"
     },
     "output_type": "display_data"
    }
   ],
   "source": [
    "df_temp2 = df_temp.drop(\"Utility by State\", axis = 1)\n",
    "df_temp2.plot()"
   ]
  },
  {
   "cell_type": "code",
   "execution_count": 29,
   "metadata": {},
   "outputs": [
    {
     "data": {
      "text/plain": [
       "array([[1.        , 0.94698827],\n",
       "       [0.94698827, 1.        ]])"
      ]
     },
     "execution_count": 29,
     "metadata": {},
     "output_type": "execute_result"
    }
   ],
   "source": [
    "cosine_similarity(df_temp2.T)"
   ]
  },
  {
   "cell_type": "code",
   "execution_count": 30,
   "metadata": {},
   "outputs": [
    {
     "data": {
      "text/html": [
       "<div>\n",
       "<style scoped>\n",
       "    .dataframe tbody tr th:only-of-type {\n",
       "        vertical-align: middle;\n",
       "    }\n",
       "\n",
       "    .dataframe tbody tr th {\n",
       "        vertical-align: top;\n",
       "    }\n",
       "\n",
       "    .dataframe thead th {\n",
       "        text-align: right;\n",
       "    }\n",
       "</style>\n",
       "<table border=\"1\" class=\"dataframe\">\n",
       "  <thead>\n",
       "    <tr style=\"text-align: right;\">\n",
       "      <th></th>\n",
       "      <th>Total Generation of Power (MWh)</th>\n",
       "      <th>Total Revenue (Thousand of US dollars)</th>\n",
       "    </tr>\n",
       "  </thead>\n",
       "  <tbody>\n",
       "    <tr>\n",
       "      <td>Total Generation of Power (MWh)</td>\n",
       "      <td>1.00000</td>\n",
       "      <td>0.91485</td>\n",
       "    </tr>\n",
       "    <tr>\n",
       "      <td>Total Revenue (Thousand of US dollars)</td>\n",
       "      <td>0.91485</td>\n",
       "      <td>1.00000</td>\n",
       "    </tr>\n",
       "  </tbody>\n",
       "</table>\n",
       "</div>"
      ],
      "text/plain": [
       "                                        Total Generation of Power (MWh)  \\\n",
       "Total Generation of Power (MWh)                                 1.00000   \n",
       "Total Revenue (Thousand of US dollars)                          0.91485   \n",
       "\n",
       "                                        Total Revenue (Thousand of US dollars)  \n",
       "Total Generation of Power (MWh)                                        0.91485  \n",
       "Total Revenue (Thousand of US dollars)                                 1.00000  "
      ]
     },
     "execution_count": 30,
     "metadata": {},
     "output_type": "execute_result"
    }
   ],
   "source": [
    "df_temp2.corr()"
   ]
  },
  {
   "cell_type": "markdown",
   "metadata": {},
   "source": [
    "#### The correlation betweent the total power generated and the total revenue is 0.9148, which is high. Therefore, we can say the total revenue is strongly correlated to the total power generated, which makes sense since the more power generated, the more money it can potentially made."
   ]
  },
  {
   "cell_type": "markdown",
   "metadata": {},
   "source": [
    "### Similarities between power generated and use loss"
   ]
  },
  {
   "cell_type": "code",
   "execution_count": 31,
   "metadata": {},
   "outputs": [
    {
     "data": {
      "text/html": [
       "<div>\n",
       "<style scoped>\n",
       "    .dataframe tbody tr th:only-of-type {\n",
       "        vertical-align: middle;\n",
       "    }\n",
       "\n",
       "    .dataframe tbody tr th {\n",
       "        vertical-align: top;\n",
       "    }\n",
       "\n",
       "    .dataframe thead th {\n",
       "        text-align: right;\n",
       "    }\n",
       "</style>\n",
       "<table border=\"1\" class=\"dataframe\">\n",
       "  <thead>\n",
       "    <tr style=\"text-align: right;\">\n",
       "      <th></th>\n",
       "      <th>Utility by State</th>\n",
       "      <th>Total Generation of Power (MWh)</th>\n",
       "      <th>Power losses of all kinds measured in megawatt hours</th>\n",
       "    </tr>\n",
       "  </thead>\n",
       "  <tbody>\n",
       "    <tr>\n",
       "      <td>0</td>\n",
       "      <td>AK</td>\n",
       "      <td>6916431.0</td>\n",
       "      <td>357085.0</td>\n",
       "    </tr>\n",
       "    <tr>\n",
       "      <td>1</td>\n",
       "      <td>AL</td>\n",
       "      <td>94490013.0</td>\n",
       "      <td>4448349.0</td>\n",
       "    </tr>\n",
       "    <tr>\n",
       "      <td>2</td>\n",
       "      <td>AR</td>\n",
       "      <td>55715570.0</td>\n",
       "      <td>3068421.0</td>\n",
       "    </tr>\n",
       "    <tr>\n",
       "      <td>3</td>\n",
       "      <td>AZ</td>\n",
       "      <td>96248652.0</td>\n",
       "      <td>4303615.0</td>\n",
       "    </tr>\n",
       "    <tr>\n",
       "      <td>4</td>\n",
       "      <td>CA</td>\n",
       "      <td>324458359.0</td>\n",
       "      <td>14768014.0</td>\n",
       "    </tr>\n",
       "  </tbody>\n",
       "</table>\n",
       "</div>"
      ],
      "text/plain": [
       "  Utility by State  Total Generation of Power (MWh)  \\\n",
       "0               AK                        6916431.0   \n",
       "1               AL                       94490013.0   \n",
       "2               AR                       55715570.0   \n",
       "3               AZ                       96248652.0   \n",
       "4               CA                      324458359.0   \n",
       "\n",
       "   Power losses of all kinds measured in megawatt hours  \n",
       "0                                           357085.0     \n",
       "1                                          4448349.0     \n",
       "2                                          3068421.0     \n",
       "3                                          4303615.0     \n",
       "4                                         14768014.0     "
      ]
     },
     "execution_count": 31,
     "metadata": {},
     "output_type": "execute_result"
    }
   ],
   "source": [
    "df_temp = pd.merge(pwr_generated_tot, use_loss_tot)\n",
    "df_temp.head(5)"
   ]
  },
  {
   "cell_type": "code",
   "execution_count": 32,
   "metadata": {},
   "outputs": [
    {
     "data": {
      "text/plain": [
       "<matplotlib.axes._subplots.AxesSubplot at 0x7fd261e340d0>"
      ]
     },
     "execution_count": 32,
     "metadata": {},
     "output_type": "execute_result"
    },
    {
     "data": {
      "image/png": "[encoded data removed]",
      "text/plain": [
       "<Figure size 432x288 with 1 Axes>"
      ]
     },
     "metadata": {
      "needs_background": "light"
     },
     "output_type": "display_data"
    }
   ],
   "source": [
    "df_temp2 = df_temp.drop(\"Utility by State\", axis = 1)\n",
    "df_temp2.plot()"
   ]
  },
  {
   "cell_type": "code",
   "execution_count": 33,
   "metadata": {},
   "outputs": [
    {
     "data": {
      "text/plain": [
       "array([[1.        , 0.86637819],\n",
       "       [0.86637819, 1.        ]])"
      ]
     },
     "execution_count": 33,
     "metadata": {},
     "output_type": "execute_result"
    }
   ],
   "source": [
    "cosine_similarity(df_temp2.T)"
   ]
  },
  {
   "cell_type": "code",
   "execution_count": 34,
   "metadata": {},
   "outputs": [
    {
     "data": {
      "text/html": [
       "<div>\n",
       "<style scoped>\n",
       "    .dataframe tbody tr th:only-of-type {\n",
       "        vertical-align: middle;\n",
       "    }\n",
       "\n",
       "    .dataframe tbody tr th {\n",
       "        vertical-align: top;\n",
       "    }\n",
       "\n",
       "    .dataframe thead th {\n",
       "        text-align: right;\n",
       "    }\n",
       "</style>\n",
       "<table border=\"1\" class=\"dataframe\">\n",
       "  <thead>\n",
       "    <tr style=\"text-align: right;\">\n",
       "      <th></th>\n",
       "      <th>Total Generation of Power (MWh)</th>\n",
       "      <th>Power losses of all kinds measured in megawatt hours</th>\n",
       "    </tr>\n",
       "  </thead>\n",
       "  <tbody>\n",
       "    <tr>\n",
       "      <td>Total Generation of Power (MWh)</td>\n",
       "      <td>1.000000</td>\n",
       "      <td>0.776237</td>\n",
       "    </tr>\n",
       "    <tr>\n",
       "      <td>Power losses of all kinds measured in megawatt hours</td>\n",
       "      <td>0.776237</td>\n",
       "      <td>1.000000</td>\n",
       "    </tr>\n",
       "  </tbody>\n",
       "</table>\n",
       "</div>"
      ],
      "text/plain": [
       "                                                    Total Generation of Power (MWh)  \\\n",
       "Total Generation of Power (MWh)                                            1.000000   \n",
       "Power losses of all kinds measured in megawatt ...                         0.776237   \n",
       "\n",
       "                                                    Power losses of all kinds measured in megawatt hours  \n",
       "Total Generation of Power (MWh)                                                              0.776237     \n",
       "Power losses of all kinds measured in megawatt ...                                           1.000000     "
      ]
     },
     "execution_count": 34,
     "metadata": {},
     "output_type": "execute_result"
    }
   ],
   "source": [
    "df_temp2.corr()"
   ]
  },
  {
   "cell_type": "markdown",
   "metadata": {},
   "source": [
    "#### The correlation betweent the total power generated and the total power loss is 0.0.7762, which is relatively high. Therefore, we can say the use loss is somehow correlated to the total power generated. Since the correlation is not that high, the reason might be some factory has more advanced machines that can prevent large power loss."
   ]
  },
  {
   "cell_type": "code",
   "execution_count": null,
   "metadata": {},
   "outputs": [],
   "source": []
  }
 ],
 "metadata": {
  "kernelspec": {
   "display_name": "Python 3",
   "language": "python",
   "name": "python3"
  },
  "language_info": {
   "codemirror_mode": {
    "name": "ipython",
    "version": 3
   },
   "file_extension": ".py",
   "mimetype": "text/x-python",
   "name": "python",
   "nbconvert_exporter": "python",
   "pygments_lexer": "ipython3",
   "version": "3.7.4"
  }
 },
 "nbformat": 4,
 "nbformat_minor": 4
}
